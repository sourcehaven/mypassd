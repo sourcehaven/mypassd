{
 "cells": [
  {
   "cell_type": "markdown",
   "id": "4c4ce212-f4de-41c3-85cd-a859bffa46d6",
   "metadata": {},
   "source": [
    "# Pre-requisites\n",
    "\n",
    "Initialize notebook environment:"
   ]
  },
  {
   "cell_type": "code",
   "execution_count": null,
   "id": "07332c7c-50c6-4038-bc00-02bdecf1b60c",
   "metadata": {},
   "outputs": [],
   "source": [
    "import os\n",
    "import sys\n",
    "\n",
    "sys.path.append('..')\n",
    "os.environ['FLASK_ENV'] = 'Development'\n",
    "os.environ['MYPASS_DB_CONNECTION_URI'] = 'sqlite+pysqlite:///:memory:'"
   ]
  },
  {
   "cell_type": "markdown",
   "id": "670db7ab-9a7a-4ae2-b857-0c8564abb0b3",
   "metadata": {},
   "source": [
    "Import all neccessary libraries."
   ]
  },
  {
   "cell_type": "code",
   "execution_count": null,
   "id": "aa9ed9ae-6c6d-4236-8838-810c07b82ffe",
   "metadata": {},
   "outputs": [],
   "source": [
    "import requests"
   ]
  },
  {
   "cell_type": "markdown",
   "id": "fb3623c7-97b6-43a8-bf12-2a879c7852dc",
   "metadata": {},
   "source": [
    "## Start up flask app\n",
    "\n",
    "You can run your flask app either here, or host on any other computer.\n",
    "\n",
    "Here it will run as a daemonic thread in the background. You will most likely have to restart or stop the kernel to stop it.\n",
    "\n",
    "To protect you from incidentaly running the application from here, `run_from_jupyter` flag is set to `False` by default."
   ]
  },
  {
   "cell_type": "code",
   "execution_count": null,
   "id": "c6260847-7079-4971-b39a-28eb576606d7",
   "metadata": {},
   "outputs": [],
   "source": [
    "from threading import Thread\n",
    "\n",
    "from mypass import create_app\n",
    "\n",
    "run_from_jupyter = False\n",
    "\n",
    "\n",
    "def main():\n",
    "    app = create_app()\n",
    "\n",
    "    host = app.config['HOST']\n",
    "    port = app.config['PORT']\n",
    "    app.run(host=host, port=port, debug=False)\n",
    "\n",
    "\n",
    "if __name__ == '__main__':\n",
    "    if run_from_jupyter:\n",
    "        t = Thread(target=main, daemon=True)\n",
    "        t.start()"
   ]
  },
  {
   "cell_type": "markdown",
   "id": "7cc1c245-3bda-410b-8790-83957c4d7169",
   "metadata": {},
   "source": [
    "# API usage\n",
    "\n",
    "Set proxy for upcoming requests."
   ]
  },
  {
   "cell_type": "code",
   "execution_count": null,
   "id": "8b67138b-71a4-43f2-a27b-59198cdf93c2",
   "metadata": {},
   "outputs": [],
   "source": [
    "proxies = {'http': 'http://localhost:5757', 'https': 'http://localhost:5757'}"
   ]
  },
  {
   "cell_type": "code",
   "execution_count": null,
   "id": "32541913-9ad7-44c5-9696-82005db3527c",
   "metadata": {},
   "outputs": [],
   "source": [
    "url = 'http://localhost/api/auth/registration'\n",
    "resp = requests.post(url=url, proxies=proxies, json={'username': 'master', 'password': 'super-secret'})\n",
    "\n",
    "if resp.status_code == 201:\n",
    "    print('Successful registration!')\n",
    "    resp_obj = resp.json()\n",
    "    print(resp_obj)\n",
    "else:\n",
    "    print('Failed registration!')\n",
    "    print(resp.json())"
   ]
  },
  {
   "cell_type": "markdown",
   "id": "d9babde7-2126-4bd3-9d80-741723315510",
   "metadata": {},
   "source": [
    "Registration will log you in at the same time, as well as save a new user in the database side."
   ]
  },
  {
   "cell_type": "markdown",
   "id": "d2df52e7-9544-4a69-b27e-73c007feb350",
   "metadata": {},
   "source": [
    "Next, we save all the jwt we just got from the registration request."
   ]
  },
  {
   "cell_type": "code",
   "execution_count": null,
   "id": "93803acf-7c1f-4658-8220-a05d2b9fed52",
   "metadata": {},
   "outputs": [],
   "source": [
    "access_token = resp_obj['access_token']\n",
    "refresh_token = resp_obj['refresh_token']"
   ]
  },
  {
   "cell_type": "markdown",
   "id": "e724a3dd-736f-418e-9f76-97e13cb2edc5",
   "metadata": {},
   "source": [
    "We can create an authorization class that does the work for us:"
   ]
  },
  {
   "cell_type": "code",
   "execution_count": null,
   "id": "118b51a0-f3f2-45f6-8864-5ed9ba5f7f20",
   "metadata": {},
   "outputs": [],
   "source": [
    "from requests.auth import AuthBase\n",
    "\n",
    "\n",
    "class BearerAuth(AuthBase):\n",
    "    def __init__(self, token: str):\n",
    "        self.token = token\n",
    "\n",
    "    def __call__(self, r):\n",
    "        r.headers['authorization'] = f'Bearer {self.token}'\n",
    "        return r"
   ]
  },
  {
   "cell_type": "code",
   "execution_count": null,
   "id": "e9529647-6e79-450e-9872-76aa332377a6",
   "metadata": {},
   "outputs": [],
   "source": [
    "auth = BearerAuth(token=access_token)"
   ]
  },
  {
   "cell_type": "markdown",
   "id": "26a1799e-d531-47ce-a0c6-b6bcc1f93083",
   "metadata": {},
   "source": [
    "or simply create a header object which we can pass along as well, with any given request."
   ]
  },
  {
   "cell_type": "code",
   "execution_count": null,
   "id": "bdbae86f-6699-4620-bd13-c554363fd09b",
   "metadata": {},
   "outputs": [],
   "source": [
    "headers = {'authorization': f'Bearer {access_token}'}"
   ]
  },
  {
   "cell_type": "markdown",
   "id": "799ee1a3-ae86-40f6-8242-ce0290f01f38",
   "metadata": {},
   "source": [
    "Let's try to login, with the registered user!\n",
    "You can also experiment with different, or unauthorized logins."
   ]
  },
  {
   "cell_type": "code",
   "execution_count": null,
   "id": "bb6c8fb6-459d-43a2-8fa7-a3d685248046",
   "metadata": {},
   "outputs": [],
   "source": [
    "url = 'http://localhost/api/auth/login'\n",
    "resp = requests.post(url=url, proxies=proxies, json={'username': 'master', 'password': 'super-secret'})\n",
    "\n",
    "if resp.status_code == 201:\n",
    "    print('Successful login!')\n",
    "    resp_obj = resp.json()\n",
    "    access_token = resp_obj['access_token']\n",
    "    refresh_token = resp_obj['refresh_token']\n",
    "    auth = BearerAuth(token=access_token)\n",
    "    headers = {'authorization': f'Bearer {access_token}'}\n",
    "    print(resp_obj)\n",
    "else:\n",
    "    print('Failed login!')\n",
    "    print(resp.json())"
   ]
  },
  {
   "cell_type": "markdown",
   "id": "aa74bbdd-fcab-4ff1-bf07-1308aec1ed4a",
   "metadata": {},
   "source": [
    "You can also use login to mint fresh access-tokens. When you are already logged-in, this should be used while also passing the appropriate authorization header, so that old refresh tokens could be revoked.\n",
    "\n",
    "`requests.post(url=url, proxies=proxies, json={'username': 'master', 'password': 'super-secret', 'refresh_token': refresh_token})`"
   ]
  },
  {
   "cell_type": "code",
   "execution_count": null,
   "id": "da8aea71-f3cf-45ab-8d5e-c473a7c8d7c7",
   "metadata": {
    "tags": []
   },
   "outputs": [],
   "source": [
    "resp = requests.post(url=url, proxies=proxies, json={'username': 'master', 'password': 'super-secret', 'refresh_token': refresh_token})\n",
    "print(f'status: {resp.status_code}  |  resp: {resp.json()}')"
   ]
  },
  {
   "cell_type": "markdown",
   "id": "8290de94-333d-4b7a-a4c4-44b353bbef23",
   "metadata": {},
   "source": [
    "## Requesting non-fresh access tokens\n",
    "\n",
    "We will attempt to request a new ***non-fresh** access token* using our previous *refresh token*."
   ]
  },
  {
   "cell_type": "code",
   "execution_count": null,
   "id": "16b7855b-e5e1-496e-b671-3981e4c4777f",
   "metadata": {},
   "outputs": [],
   "source": [
    "url = 'http://localhost/api/auth/refresh'\n",
    "resp = requests.post(url=url, proxies=proxies, auth=BearerAuth(token=refresh_token))\n",
    "\n",
    "if resp.status_code == 201:\n",
    "    print('Successfully acquired non-fresh access token!')\n",
    "    resp_obj = resp.json()\n",
    "    access_token = resp_obj['access_token']\n",
    "    auth = BearerAuth(token=access_token)\n",
    "    headers = {'authorization': f'Bearer {access_token}'}\n",
    "    print(resp_obj)\n",
    "else:\n",
    "    print('Failed to get new access token!')\n",
    "    print(resp.json())"
   ]
  },
  {
   "cell_type": "markdown",
   "id": "b814d2d9-02f0-4dda-a470-760c658ddfd6",
   "metadata": {},
   "source": [
    "We can also change the user password like so:\n",
    "\n",
    "Note that this api call hides some more complex logic like:\n",
    " - generating a new hash from your password\n",
    " - using your password to encrypt your secret one-time-only master token\n",
    " - generating a new salt for the above\n",
    " \n",
    "The api endpoint will write some cookie data too!"
   ]
  },
  {
   "cell_type": "code",
   "execution_count": null,
   "id": "f7d1fb13-a01c-4753-815e-8fd7f94ff431",
   "metadata": {
    "tags": []
   },
   "outputs": [],
   "source": [
    "url = 'http://localhost/api/user/update/pw'\n",
    "resp = requests.post(\n",
    "    url=url,\n",
    "    proxies=proxies,\n",
    "    json={\n",
    "        'old_password': 'super-secret',\n",
    "        'new_password': 'super-duper-secret',\n",
    "        'refresh_token': refresh_token\n",
    "    },\n",
    "    auth=BearerAuth(token=access_token)\n",
    ")\n",
    "\n",
    "if resp.status_code == 201:\n",
    "    print('Successful password update!')\n",
    "    resp_obj = resp.json()\n",
    "    access_token = resp_obj['access_token']\n",
    "    refresh_token = resp_obj['refresh_token']\n",
    "    auth = BearerAuth(token=access_token)\n",
    "    headers = {'authorization': f'Bearer {access_token}'}\n",
    "    print(resp_obj)\n",
    "else:\n",
    "    print('Failed to update password!')\n",
    "    print(resp.json())"
   ]
  },
  {
   "cell_type": "markdown",
   "id": "8357140e-79a0-4218-9015-ee059bcd9029",
   "metadata": {},
   "source": [
    "Change some fields of the logged in user.\n",
    "Note that username cannot be changed."
   ]
  },
  {
   "cell_type": "code",
   "execution_count": null,
   "id": "9b7f813d-ea0c-45ef-8cb2-6e22a090f0b5",
   "metadata": {
    "tags": []
   },
   "outputs": [],
   "source": [
    "url = 'http://localhost/api/user/update'\n",
    "resp = requests.post(\n",
    "    url=url,\n",
    "    proxies=proxies,\n",
    "    json={\n",
    "        'fields': {\n",
    "            'email': 'fukushi@admin.com'\n",
    "        }\n",
    "    },\n",
    "    auth=BearerAuth(token=access_token)\n",
    ")\n",
    "\n",
    "if resp.status_code == 204:\n",
    "    print('Successfully updated user data!')\n",
    "    print(resp.cookies.get_dict())\n",
    "else:\n",
    "    print('Failed to update user data!')\n",
    "    print(resp.json())"
   ]
  },
  {
   "cell_type": "markdown",
   "id": "3b7423a4-48cf-476b-9d13-334770dc38e2",
   "metadata": {},
   "source": [
    "## Creating vault entry\n",
    "\n",
    "Lets create a vault entry! First, we set the url, then we will be making the actual request."
   ]
  },
  {
   "cell_type": "code",
   "execution_count": null,
   "id": "806caa31-da0e-45bc-bee4-4e906efa6142",
   "metadata": {},
   "outputs": [],
   "source": [
    "url = 'http://localhost/api/db/vault/add'\n",
    "resp = requests.post(\n",
    "    url=url,\n",
    "    proxies=proxies,\n",
    "    json={\n",
    "        'fields': {\n",
    "            'username': 'aragorn',\n",
    "            'password': 'l$1swoĐf75s#d9',\n",
    "            'website': 'https://favsite.com',\n",
    "            'title': 'fav',\n",
    "            'notes': 'Hush!'\n",
    "        }\n",
    "    },\n",
    "    auth=BearerAuth(token=access_token))\n",
    "\n",
    "if resp.status_code == 200:\n",
    "    print('Successful entry creation!')\n",
    "    resp_obj = resp.json()\n",
    "    print(resp_obj)\n",
    "else:\n",
    "    print('Failed entry creation!')\n",
    "    print(resp.json())"
   ]
  },
  {
   "cell_type": "markdown",
   "id": "aff7c17b-2e61-4035-94e3-fb1f78fa7c80",
   "metadata": {},
   "source": [
    "Let's add some more test data!"
   ]
  },
  {
   "cell_type": "code",
   "execution_count": null,
   "id": "1b963f43-d3c4-4a80-a947-93c5b08c3049",
   "metadata": {},
   "outputs": [],
   "source": [
    "url = 'http://localhost/api/db/vault/add'\n",
    "test_data = [\n",
    "    {'username': 'loghachi', 'password': 'ŁswndsaWI45', 'website': 'https://worldwide.com', 'title': 'world', 'folder': 'social'},\n",
    "    {'username': 'hachiman', 'password': 'pa85ks546đĐä5w8S#', 'website': 'https://fakebook.com', 'title': 'fakeb', 'folder': 'social'},\n",
    "    {'username': 'manner', 'password': 'aiiu3fĐđä3#', 'website': 'https://gitterhub.com', 'title': 'huby', 'folder': 'tokens'}\n",
    "]\n",
    "\n",
    "for td in test_data:\n",
    "    resp = requests.post(\n",
    "        url=url,\n",
    "        proxies=proxies,\n",
    "        json={'fields': td},\n",
    "        auth=BearerAuth(token=access_token))\n",
    "    \n",
    "    if resp.status_code == 200:\n",
    "        print(f'Added entry: {resp.json()}')\n",
    "    else:\n",
    "        print(resp.json())"
   ]
  },
  {
   "cell_type": "markdown",
   "id": "ed8185e4-2962-4973-acd6-9dcfc20190fe",
   "metadata": {},
   "source": [
    "## Reading from db\n",
    "\n",
    "Lets query our read endpoints!"
   ]
  },
  {
   "cell_type": "markdown",
   "id": "0d06f789-85b8-4bae-9d96-d9b17eaf96c1",
   "metadata": {},
   "source": [
    "The following endpoint will read records from our database."
   ]
  },
  {
   "cell_type": "code",
   "execution_count": null,
   "id": "ca617150-2b16-406a-aea8-e3e6f76df216",
   "metadata": {},
   "outputs": [],
   "source": [
    "url = 'http://localhost/api/db/vault/select'\n",
    "resp = requests.post(\n",
    "    url=url,\n",
    "    proxies=proxies,\n",
    "    json={},\n",
    "    auth=BearerAuth(token=access_token))\n",
    "\n",
    "if resp.status_code == 200:\n",
    "    print('Entries read:')\n",
    "    resp_obj = resp.json()\n",
    "    if isinstance(resp_obj, list):\n",
    "        print('\\n'.join(str(o) for o in resp_obj))\n",
    "    else:\n",
    "        print(resp_obj)\n",
    "else:\n",
    "    print('Failed reading entries!')\n",
    "    print(resp.json())"
   ]
  },
  {
   "cell_type": "markdown",
   "id": "378e12f2-3943-4bfe-bacf-0a14c6141e2e",
   "metadata": {},
   "source": [
    "Next up, the update endpoint:"
   ]
  },
  {
   "cell_type": "code",
   "execution_count": null,
   "id": "74f2ac74-c0a2-45ce-9e02-6086f6162c78",
   "metadata": {
    "tags": []
   },
   "outputs": [],
   "source": [
    "url = 'http://localhost/api/db/vault/update'\n",
    "resp = requests.post(\n",
    "    url=url,\n",
    "    proxies=proxies,\n",
    "    json={\n",
    "        'crit': {\n",
    "            'folder': 'social'\n",
    "        },\n",
    "        'fields': {\n",
    "            'notes': ':('\n",
    "        }\n",
    "    },\n",
    "    auth=BearerAuth(token=access_token))\n",
    "\n",
    "if resp.status_code == 200:\n",
    "    print('Entries updated:')\n",
    "    resp_obj = resp.json()\n",
    "    print(resp_obj)\n",
    "else:\n",
    "    print('Failed to update entries!')\n",
    "    print(resp.json())"
   ]
  },
  {
   "cell_type": "markdown",
   "id": "20508ed5-8bad-45c5-99d5-1d0f8c7f43bb",
   "metadata": {},
   "source": [
    "Update a vault password:"
   ]
  },
  {
   "cell_type": "code",
   "execution_count": null,
   "id": "feee108a-5be5-4a90-9338-f6a589dbade2",
   "metadata": {
    "tags": []
   },
   "outputs": [],
   "source": [
    "url = 'http://localhost/api/db/vault/update'\n",
    "resp = requests.post(\n",
    "    url=url,\n",
    "    proxies=proxies,\n",
    "    json={\n",
    "        'id': 1,\n",
    "        'fields': {\n",
    "            'password': 'myNewPas$word'\n",
    "        }\n",
    "    },\n",
    "    auth=BearerAuth(token=access_token))\n",
    "\n",
    "if resp.status_code == 200:\n",
    "    print('Entries updated:')\n",
    "    resp_obj = resp.json()\n",
    "    print(resp_obj)\n",
    "else:\n",
    "    print('Failed to update entries!')\n",
    "    print(resp.json())"
   ]
  },
  {
   "cell_type": "markdown",
   "id": "de2b9b77-0546-47fe-9f85-ab9806117adf",
   "metadata": {},
   "source": [
    "We will delete some rows up next."
   ]
  },
  {
   "cell_type": "code",
   "execution_count": null,
   "id": "47fde5cd-0c45-4c77-99f7-1826079f6783",
   "metadata": {
    "tags": []
   },
   "outputs": [],
   "source": [
    "url = 'http://localhost/api/db/vault/delete'\n",
    "resp = requests.post(\n",
    "    url=url,\n",
    "    proxies=proxies,\n",
    "    json={\n",
    "        'crit': {\n",
    "            'title': 'fakebook'\n",
    "        }\n",
    "    },\n",
    "    auth=BearerAuth(token=access_token))\n",
    "\n",
    "if resp.status_code == 200:\n",
    "    print('Entries deleted:')\n",
    "    resp_obj = resp.json()\n",
    "    print(resp_obj)\n",
    "else:\n",
    "    print('Failed to delete entries!')\n",
    "    print(resp.json())"
   ]
  },
  {
   "cell_type": "markdown",
   "id": "98bbe015-3f17-42ca-b3e1-ae9980346edc",
   "metadata": {},
   "source": [
    "Let's see some logging out!\n",
    "\n",
    "Some important things to note:\n",
    " - for things to work as intended, both **access and refresh** tokens **MUST** be revoked on logout\n",
    " - usually this task should be implemented by the *front end* application"
   ]
  },
  {
   "cell_type": "code",
   "execution_count": null,
   "id": "5041d33d-ba1c-4de2-96c6-a66a7e6ea47a",
   "metadata": {
    "tags": []
   },
   "outputs": [],
   "source": [
    "url = 'http://localhost/api/auth/logout'\n",
    "resp_ref = requests.delete(\n",
    "    url=url,\n",
    "    proxies=proxies,\n",
    "    auth=BearerAuth(token=refresh_token))\n",
    "resp_acc = requests.delete(\n",
    "    url=url,\n",
    "    proxies=proxies,\n",
    "    auth=BearerAuth(token=access_token))\n",
    "\n",
    "if resp_ref.status_code == 204 and resp_acc.status_code == 204:\n",
    "    print('Logged out user.')\n",
    "else:\n",
    "    print('Failed to logout user!')\n",
    "    print(resp.json())"
   ]
  },
  {
   "cell_type": "markdown",
   "id": "d4ddc1c9-102c-47a9-ac9b-ae8d86ee4bde",
   "metadata": {},
   "source": [
    "# Login & Refresh hooks\n",
    "\n",
    "In this section we will see some basic examples on how to create simple hooks in case you request fails due to an expired token."
   ]
  },
  {
   "cell_type": "code",
   "execution_count": null,
   "id": "6ffa5416-cf3b-4f7c-b226-ab403da635c6",
   "metadata": {
    "tags": []
   },
   "outputs": [],
   "source": [
    "import requests\n",
    "from tenacity import retry, stop_after_attempt, RetryCallState\n",
    "\n",
    "session = {'access_token': access_token, 'refresh_token': refresh_token}\n",
    "\n",
    "\n",
    "class TokenExpiredException(RuntimeError):\n",
    "    pass\n",
    "\n",
    "\n",
    "def return_last_value(retry_state):\n",
    "    return retry_state.outcome.result()\n",
    "\n",
    "\n",
    "def refresh_hook(retry_state: RetryCallState):\n",
    "    print('Calling refresh hook!')\n",
    "    url = 'http://localhost/api/auth/refresh'\n",
    "    # You will need to have your request token.\n",
    "    resp = requests.post(url=url, proxies=proxies, auth=BearerAuth(token=session['refresh_token']))\n",
    "\n",
    "    if resp.status_code == 201:\n",
    "        print('Successfully acquired non-fresh access token!')\n",
    "        resp_obj = resp.json()\n",
    "        session['access_token'] = resp_obj['access_token']\n",
    "        print(resp_obj)\n",
    "        return retry_state.fn(*retry_state.args, **retry_state.kwargs)\n",
    "    else:\n",
    "        print('Failed to get new access token!')\n",
    "        print(resp.json())\n",
    "\n",
    "\n",
    "@retry(stop=stop_after_attempt(1), retry_error_callback=refresh_hook)\n",
    "def select_all():\n",
    "    url = 'http://localhost/api/db/vault/select'\n",
    "    print('Posting select query')\n",
    "    resp = requests.post(\n",
    "        url=url,\n",
    "        proxies=proxies,\n",
    "        json={},\n",
    "        auth=BearerAuth(token=session['access_token']))\n",
    "\n",
    "    if resp.status_code == 200:\n",
    "        print('Entries read:')\n",
    "        resp_obj = resp.json()\n",
    "        if isinstance(resp_obj, list):\n",
    "            print('\\n'.join(str(o) for o in resp_obj))\n",
    "        else:\n",
    "            print(resp_obj)\n",
    "    else:\n",
    "        if resp.status_code == 401 and resp.json()['msg'] == 'Token has expired':\n",
    "            raise TokenExpiredException('Token has expired')\n",
    "\n",
    "        print('Failed reading entries!')\n",
    "        print(resp.json())\n",
    "        \n",
    "\n",
    "select_all()"
   ]
  }
 ],
 "metadata": {
  "kernelspec": {
   "display_name": "Python 3 (ipykernel)",
   "language": "python",
   "name": "python3"
  },
  "language_info": {
   "codemirror_mode": {
    "name": "ipython",
    "version": 3
   },
   "file_extension": ".py",
   "mimetype": "text/x-python",
   "name": "python",
   "nbconvert_exporter": "python",
   "pygments_lexer": "ipython3",
   "version": "3.11.4"
  }
 },
 "nbformat": 4,
 "nbformat_minor": 5
}
